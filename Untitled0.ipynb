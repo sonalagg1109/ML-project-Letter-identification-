{
  "nbformat": 4,
  "nbformat_minor": 0,
  "metadata": {
    "colab": {
      "provenance": [],
      "gpuType": "T4",
      "authorship_tag": "ABX9TyNsuVoVnP5VsjtKr+bV9wP/",
      "include_colab_link": true
    },
    "kernelspec": {
      "name": "python3",
      "display_name": "Python 3"
    },
    "language_info": {
      "name": "python"
    },
    "accelerator": "GPU"
  },
  "cells": [
    {
      "cell_type": "markdown",
      "metadata": {
        "id": "view-in-github",
        "colab_type": "text"
      },
      "source": [
        "<a href=\"https://colab.research.google.com/github/sonalagg1109/ML-project-Letter-identification-/blob/main/Untitled0.ipynb\" target=\"_parent\"><img src=\"https://colab.research.google.com/assets/colab-badge.svg\" alt=\"Open In Colab\"/></a>"
      ]
    },
    {
      "cell_type": "code",
      "execution_count": null,
      "metadata": {
        "colab": {
          "base_uri": "https://localhost:8080/"
        },
        "id": "j5QZEmAcePQ4",
        "outputId": "47b5b826-21fb-4963-f8f3-11424c7a873b"
      },
      "outputs": [
        {
          "output_type": "stream",
          "name": "stdout",
          "text": [
            "Collecting pycuda\n",
            "  Downloading pycuda-2024.1.2.tar.gz (1.7 MB)\n",
            "\u001b[?25l     \u001b[90m━━━━━━━━━━━━━━━━━━━━━━━━━━━━━━━━━━━━━━━━\u001b[0m \u001b[32m0.0/1.7 MB\u001b[0m \u001b[31m?\u001b[0m eta \u001b[36m-:--:--\u001b[0m\r\u001b[2K     \u001b[91m━━━\u001b[0m\u001b[91m╸\u001b[0m\u001b[90m━━━━━━━━━━━━━━━━━━━━━━━━━━━━━━━━━━━━\u001b[0m \u001b[32m0.2/1.7 MB\u001b[0m \u001b[31m5.1 MB/s\u001b[0m eta \u001b[36m0:00:01\u001b[0m\r\u001b[2K     \u001b[91m━━━━━━━━━━━━━━━━━━━━━━━━━━━━━━━━\u001b[0m\u001b[91m╸\u001b[0m\u001b[90m━━━━━━━\u001b[0m \u001b[32m1.4/1.7 MB\u001b[0m \u001b[31m20.0 MB/s\u001b[0m eta \u001b[36m0:00:01\u001b[0m\r\u001b[2K     \u001b[90m━━━━━━━━━━━━━━━━━━━━━━━━━━━━━━━━━━━━━━━━\u001b[0m \u001b[32m1.7/1.7 MB\u001b[0m \u001b[31m18.6 MB/s\u001b[0m eta \u001b[36m0:00:00\u001b[0m\n",
            "\u001b[?25h  Installing build dependencies ... \u001b[?25l\u001b[?25hdone\n",
            "  Getting requirements to build wheel ... \u001b[?25l\u001b[?25hdone\n",
            "  Preparing metadata (pyproject.toml) ... \u001b[?25l\u001b[?25hdone\n",
            "Collecting pytools>=2011.2 (from pycuda)\n",
            "  Downloading pytools-2024.1.15-py3-none-any.whl.metadata (2.9 kB)\n",
            "Requirement already satisfied: platformdirs>=2.2.0 in /usr/local/lib/python3.10/dist-packages (from pycuda) (4.3.6)\n",
            "Collecting mako (from pycuda)\n",
            "  Downloading Mako-1.3.6-py3-none-any.whl.metadata (2.9 kB)\n",
            "Requirement already satisfied: typing-extensions>=4 in /usr/local/lib/python3.10/dist-packages (from pytools>=2011.2->pycuda) (4.12.2)\n",
            "Requirement already satisfied: MarkupSafe>=0.9.2 in /usr/local/lib/python3.10/dist-packages (from mako->pycuda) (3.0.2)\n",
            "Downloading pytools-2024.1.15-py3-none-any.whl (88 kB)\n",
            "\u001b[2K   \u001b[90m━━━━━━━━━━━━━━━━━━━━━━━━━━━━━━━━━━━━━━━━\u001b[0m \u001b[32m88.6/88.6 kB\u001b[0m \u001b[31m10.3 MB/s\u001b[0m eta \u001b[36m0:00:00\u001b[0m\n",
            "\u001b[?25hDownloading Mako-1.3.6-py3-none-any.whl (78 kB)\n",
            "\u001b[2K   \u001b[90m━━━━━━━━━━━━━━━━━━━━━━━━━━━━━━━━━━━━━━━━\u001b[0m \u001b[32m78.6/78.6 kB\u001b[0m \u001b[31m9.2 MB/s\u001b[0m eta \u001b[36m0:00:00\u001b[0m\n",
            "\u001b[?25hBuilding wheels for collected packages: pycuda\n",
            "  Building wheel for pycuda (pyproject.toml) ... \u001b[?25l\u001b[?25hdone\n",
            "  Created wheel for pycuda: filename=pycuda-2024.1.2-cp310-cp310-linux_x86_64.whl size=660545 sha256=4d9b64c57e9c49255c06815e98964e7f6a85b75b5300347cf449ea8081d1e728\n",
            "  Stored in directory: /root/.cache/pip/wheels/70/63/40/4bf006182f942d3516b71bb2ff3b57ccbdb8b2c0ee81882b6e\n",
            "Successfully built pycuda\n",
            "Installing collected packages: pytools, mako, pycuda\n",
            "Successfully installed mako-1.3.6 pycuda-2024.1.2 pytools-2024.1.15\n"
          ]
        }
      ],
      "source": [
        "# prompt: install pycuda\n",
        "\n",
        "!pip install pycuda"
      ]
    },
    {
      "cell_type": "code",
      "source": [
        "import pycuda.driver as cuda\n",
        "import pycuda.autoinit\n",
        "import pycuda.driver as drv\n",
        "from pycuda.compiler import SourceModule\n",
        "import numpy as np\n",
        "from sklearn.model_selection import train_test_split\n",
        "import numpy as np\n",
        "import pycuda.gpuarray as gpuarray\n",
        "from sklearn.metrics import accuracy_score, classification_report\n",
        "import time"
      ],
      "metadata": {
        "id": "KvlxOnCNfeJh"
      },
      "execution_count": null,
      "outputs": []
    },
    {
      "cell_type": "code",
      "source": [
        "S_data = np.array([\n",
        "\n",
        "                   [[0, 1, 1, 1, 1],\n",
        "                    [1, 0, 0, 0, 0],\n",
        "                    [0, 1, 1, 1, 0],\n",
        "                    [0, 0, 0, 0, 1],\n",
        "                    [1, 1, 1, 1, 0]],\n",
        "\n",
        "                   [[0, 1, 1, 1, 0],\n",
        "                    [1, 0, 0, 0, 0],\n",
        "                    [0, 1, 1, 1, 0],\n",
        "                    [0, 0, 0, 0, 1],/\n",
        "                    [0, 1, 1, 1, 0]],\n",
        "\n",
        "                   [[0, 1, 1, 1, 1],\n",
        "                    [1, 0, 0, 0, 0],\n",
        "                    [0, 1, 1, 1, 0],\n",
        "                    [1, 0, 0, 0, 1],\n",
        "                    [1, 1, 1, 1, 0]],\n",
        "\n",
        "                   [[0, 1, 1, 1, 0],\n",
        "                    [1, 0, 0, 0, 1],\n",
        "                    [0, 1, 1, 1, 0],\n",
        "                    [1, 0, 0, 0, 1],\n",
        "                    [1, 1, 1, 1, 0]],\n",
        "\n",
        "                   [[0, 1, 1, 1, 1],\n",
        "                    [1, 0, 0, 0, 0],\n",
        "                    [0, 1, 1, 1, 0],\n",
        "                    [0, 0, 0, 0, 1],\n",
        "                    [1, 1, 1, 1, 0]],\n",
        "\n",
        "                   [[1, 1, 1, 1, 0],\n",
        "                    [1, 0, 0, 0, 0],\n",
        "                    [1, 1, 1, 1, 0],\n",
        "                    [0, 0, 0, 1, 0],\n",
        "                    [1, 1, 1, 1, 0]],\n",
        "\n",
        "                   [[0, 1, 1, 1, 1],\n",
        "                    [0, 1, 0, 0, 0],\n",
        "                    [0, 1, 1, 1, 1],\n",
        "                    [0, 0, 0, 0, 1],\n",
        "                    [0, 1, 1, 1, 1]],\n",
        "\n",
        "                   [[0, 1, 1, 1, 0],\n",
        "                    [0, 1, 0, 0, 0],\n",
        "                    [0, 1, 1, 1, 0],\n",
        "                    [0, 0, 0, 1, 0],\n",
        "                    [0, 1, 1, 1, 0]],\n",
        "\n",
        "                   [[1, 1, 1, 0, 0],\n",
        "                    [1, 0, 0, 0, 0],\n",
        "                    [1, 1, 1, 0, 0],\n",
        "                    [0, 0, 1, 0, 0],\n",
        "                    [1, 1, 1, 0, 0]],\n",
        "\n",
        "                   [[1, 1, 1, 1, 1],\n",
        "                    [1, 0, 0, 0, 0],\n",
        "                    [1, 1, 1, 1, 1],\n",
        "                    [0, 0, 0, 0, 1],\n",
        "                    [1, 1, 1, 1, 1]],]\n",
        "                 )"
      ],
      "metadata": {
        "id": "8nisNFh-fm2L"
      },
      "execution_count": null,
      "outputs": []
    },
    {
      "cell_type": "code",
      "source": [
        "O_data = np.array([\n",
        "    [[0, 1, 1, 1, 0],\n",
        "     [1, 0, 0, 0, 1],\n",
        "     [1, 0, 0, 0, 1],\n",
        "     [1, 0, 0, 0, 1],\n",
        "     [0, 1, 1, 1, 0]],\n",
        "\n",
        "    [[0, 0, 1, 0, 0],\n",
        "     [0, 1, 0, 1, 0],\n",
        "     [0, 1, 0, 1, 0],\n",
        "     [0, 1, 0, 1, 0],\n",
        "     [0, 0, 1, 0, 0]],\n",
        "\n",
        "    [[0, 1, 0, 0, 0],\n",
        "     [1, 0, 1, 0, 0],\n",
        "     [1, 0, 1, 0, 0],\n",
        "     [1, 0, 1, 0, 0],\n",
        "     [0, 1, 0, 0, 0]],\n",
        "\n",
        "    [[0, 1, 1, 0, 0],\n",
        "     [1, 0, 0, 1, 0],\n",
        "     [1, 0, 0, 1, 0],\n",
        "     [1, 0, 0, 1, 0],\n",
        "     [0, 1, 1, 0, 0]],\n",
        "\n",
        "    [[0, 0, 0, 1, 0],\n",
        "     [0, 0, 1, 0, 1],\n",
        "     [0, 0, 1, 0, 1],\n",
        "     [0, 0, 1, 0, 1],\n",
        "     [0, 0, 0, 1, 0]],\n",
        "\n",
        "    [[0, 0, 1, 1, 0],\n",
        "     [0, 1, 0, 0, 1],\n",
        "     [0, 1, 0, 0, 1],\n",
        "     [0, 1, 0, 0, 1],\n",
        "     [0, 0, 1, 1, 0]],\n",
        "\n",
        "    [[0, 1, 1, 0, 0],\n",
        "     [1, 0, 0, 1, 0],\n",
        "     [0, 1, 1, 0, 0],\n",
        "     [0, 0, 0, 0, 0],\n",
        "     [0, 0, 0, 0, 0]],\n",
        "\n",
        "    [[0, 0, 1, 1, 0],\n",
        "     [0, 1, 0, 0, 1],\n",
        "     [0, 0, 1, 1, 0],\n",
        "     [0, 0, 0, 0, 0],\n",
        "     [0, 0, 0, 0, 0]],\n",
        "\n",
        "    [[0, 0, 0, 1, 0],\n",
        "     [0, 0, 1, 0, 1],\n",
        "     [0, 0, 1, 0, 1],\n",
        "     [0, 0, 0, 1, 0],\n",
        "     [0, 0, 0, 0, 0]],\n",
        "\n",
        "    [[0, 1, 1, 1, 0],\n",
        "     [1, 0, 0, 0, 1],\n",
        "     [1, 0, 0, 0, 1],\n",
        "     [1, 0, 0, 0, 1],\n",
        "     [0, 1, 1, 1, 0]]\n",
        "])"
      ],
      "metadata": {
        "id": "ZIhUo-jCgvUw"
      },
      "execution_count": null,
      "outputs": []
    },
    {
      "cell_type": "code",
      "source": [
        "N_data = np.array([\n",
        "    [[1, 0, 0, 0, 1],\n",
        "     [1, 1, 0, 0, 1],\n",
        "     [1, 0, 1, 0, 1],\n",
        "     [1, 0, 0, 1, 1],\n",
        "     [1, 0, 0, 0, 1]],\n",
        "\n",
        "    [[1, 0, 1, 0, 0],\n",
        "     [1, 1, 1, 0, 0],\n",
        "     [1, 0, 1, 0, 0],\n",
        "     [0, 0, 0, 0, 0],\n",
        "     [0, 0, 0, 0, 0]],\n",
        "\n",
        "    [[0, 1, 0, 0, 1],\n",
        "     [0, 1, 1, 0, 1],\n",
        "     [0, 1, 0, 1, 1],\n",
        "     [0, 1, 0, 0, 1],\n",
        "     [0, 0, 0, 0, 0]],\n",
        "\n",
        "    [[1, 0, 0, 1, 0],\n",
        "     [1, 1, 0, 1, 0],\n",
        "     [1, 0, 1, 1, 0],\n",
        "     [1, 0, 0, 1, 0],\n",
        "     [0, 0, 0, 0, 0]],\n",
        "\n",
        "    [[0, 0, 1, 0, 1],\n",
        "     [0, 0, 1, 1, 1],\n",
        "     [0, 0, 1, 0, 1],\n",
        "     [0, 0, 0, 0, 0],\n",
        "     [0, 0, 0, 0, 0]],\n",
        "\n",
        "    [[0, 0, 0, 0, 0],\n",
        "     [1, 0, 0, 1, 0],\n",
        "     [1, 1, 0, 1, 0],\n",
        "     [1, 0, 1, 1, 0],\n",
        "     [1, 0, 0, 1, 0]],\n",
        "\n",
        "    [[0, 0, 0, 0, 0],\n",
        "     [0, 1, 0, 0, 1],\n",
        "     [0, 1, 1, 0, 1],\n",
        "     [0, 1, 0, 1, 1],\n",
        "     [0, 1, 0, 0, 1]],\n",
        "\n",
        "    [[0, 0, 1, 0, 1],\n",
        "     [0, 0, 1, 1, 1],\n",
        "     [0, 0, 1, 0, 1],\n",
        "     [0, 0, 0, 0, 0],\n",
        "     [0, 0, 0, 0, 0]],\n",
        "\n",
        "    [[0, 0, 0, 0, 0],\n",
        "     [0, 0, 1, 0, 1],\n",
        "     [0, 0, 1, 1, 1],\n",
        "     [0, 0, 1, 0, 1],\n",
        "     [0, 0, 0, 0, 0]],\n",
        "\n",
        "    [[1, 0, 0, 0, 1],\n",
        "     [1, 1, 0, 0, 1],\n",
        "     [1, 0, 1, 0, 1],\n",
        "     [1, 0, 0, 1, 1],\n",
        "     [1, 0, 0, 0, 1]]\n",
        "])"
      ],
      "metadata": {
        "id": "boLv3jYjkaOf"
      },
      "execution_count": null,
      "outputs": []
    },
    {
      "cell_type": "code",
      "source": [],
      "metadata": {
        "id": "8UJO8lOhqD5G"
      },
      "execution_count": null,
      "outputs": []
    },
    {
      "cell_type": "code",
      "source": [
        "S_data = S_data.reshape(10,25)\n",
        "O_data = O_data.reshape(10,25)\n",
        "N_data = N_data.reshape(10,25)"
      ],
      "metadata": {
        "id": "Pg1XJ9fUpuWD"
      },
      "execution_count": null,
      "outputs": []
    },
    {
      "cell_type": "code",
      "source": [
        "dataset = []\n",
        "labels = []\n",
        "\n",
        "for k, i in enumerate([S_data, O_data, N_data]):\n",
        "    dataset.append(i)  # Add letter data to the dataset list\n",
        "    labels.extend([k] * len(i))  # Extend labels list with the appropriate label repeated for each entry in i\n",
        "\n",
        "# Convert lists to numpy arrays\n",
        "dataset = np.concatenate(dataset, axis=0)\n",
        "labels = np.array(labels)"
      ],
      "metadata": {
        "id": "n7hm-DAkqzx1"
      },
      "execution_count": null,
      "outputs": []
    },
    {
      "cell_type": "code",
      "source": [
        "dataset.shape"
      ],
      "metadata": {
        "colab": {
          "base_uri": "https://localhost:8080/"
        },
        "id": "jNpdpi1rruFd",
        "outputId": "c0e7bfe5-c598-454b-c957-9b5045a8762a"
      },
      "execution_count": null,
      "outputs": [
        {
          "output_type": "execute_result",
          "data": {
            "text/plain": [
              "(30, 25)"
            ]
          },
          "metadata": {},
          "execution_count": 13
        }
      ]
    },
    {
      "cell_type": "code",
      "source": [
        "labels.shape\n"
      ],
      "metadata": {
        "colab": {
          "base_uri": "https://localhost:8080/"
        },
        "id": "eZq6_9JIrzYx",
        "outputId": "68e66563-41be-48ac-fcf1-ac0e2bbf5664"
      },
      "execution_count": null,
      "outputs": [
        {
          "output_type": "execute_result",
          "data": {
            "text/plain": [
              "(30,)"
            ]
          },
          "metadata": {},
          "execution_count": 14
        }
      ]
    },
    {
      "cell_type": "code",
      "source": [
        "X_train,X_test,y_train,y_test = train_test_split(dataset,labels,train_size = 0.7)"
      ],
      "metadata": {
        "id": "swVRFHCUr7iW"
      },
      "execution_count": null,
      "outputs": []
    },
    {
      "cell_type": "code",
      "source": [],
      "metadata": {
        "id": "pRgP2dJ43WIv"
      },
      "execution_count": null,
      "outputs": []
    },
    {
      "cell_type": "code",
      "source": [
        "batch_size = 21\n",
        "input_size = 25\n",
        "hidden_size = 10\n",
        "output_size = 3\n",
        "learning_rate = 0.012\n",
        "\n",
        "# Initialize weights\n",
        "w1 = np.random.randn(input_size, hidden_size).astype(np.float32)\n",
        "w2 = np.random.randn(hidden_size, output_size).astype(np.float32)\n",
        "\n",
        "# Allocate GPU memory for weights and copy data\n",
        "w1_gpu, w2_gpu = drv.mem_alloc(w1.nbytes), drv.mem_alloc(w2.nbytes)\n",
        "drv.memcpy_htod(w1_gpu, w1)\n",
        "drv.memcpy_htod(w2_gpu, w2)"
      ],
      "metadata": {
        "id": "ebY2JULusBMF"
      },
      "execution_count": null,
      "outputs": []
    },
    {
      "cell_type": "code",
      "source": [
        "mod = SourceModule(\"\"\"\n",
        "__global__ void func1(float *input, float *w1, float *w2, float *z1, float *z2,\n",
        "                       int input_size, int hidden_size, int output_size, int batch_size) {\n",
        "    int batch_idx = blockIdx.x;\n",
        "    int hidden_idx = threadIdx.x;\n",
        "\n",
        "    if (hidden_idx < hidden_size) {\n",
        "        float sum = 0.0f;\n",
        "        for (int i = 0; i < input_size; i++) {\n",
        "            sum += input[batch_idx * input_size + i] * w1[i * hidden_size + hidden_idx];\n",
        "        }\n",
        "        z1[batch_idx * hidden_size + hidden_idx] = fmaxf(0.0f, sum);\n",
        "    }\n",
        "\n",
        "    __syncthreads();  // Ensure all threads within a block complete before proceeding\n",
        "\n",
        "    int output_idx = threadIdx.x;\n",
        "    if (output_idx < output_size) {\n",
        "        float sum = 0.0f;\n",
        "        for (int j = 0; j < hidden_size; j++) {\n",
        "            sum += z1[batch_idx * hidden_size + j] * w2[j * output_size + output_idx];\n",
        "        }\n",
        "        z2[batch_idx * output_size + output_idx] = sum;\n",
        "    }\n",
        "}\n",
        "\n",
        "__global__ void func2(float *input, float *z1, float *z2, float *target, float *w1, float *w2,\n",
        "                        int input_size, int hidden_size, int output_size, int batch_size, float learning_rate) {\n",
        "    int batch_idx = blockIdx.x;\n",
        "\n",
        "    // For output layer, only need to update w2 weights\n",
        "    int output_idx = threadIdx.x;\n",
        "\n",
        "    if (output_idx < output_size) {\n",
        "        float delta2 = z2[batch_idx * output_size + output_idx] - target[batch_idx * output_size + output_idx];\n",
        "        for (int j = 0; j < hidden_size; j++) {\n",
        "            atomicAdd(&w2[j * output_size + output_idx],\n",
        "                     -learning_rate * delta2 * z1[batch_idx * hidden_size + j]);\n",
        "        }\n",
        "    }\n",
        "\n",
        "    // For hidden layer, update w1 weights\n",
        "    int hidden_idx = threadIdx.x;\n",
        "    if (hidden_idx < hidden_size) {\n",
        "        float delta1 = 0.0f;\n",
        "        for (int k = 0; k < output_size; k++) {\n",
        "            delta1 += (z2[batch_idx * output_size + k] - target[batch_idx * output_size + k])\n",
        "                     * w2[hidden_idx * output_size + k];\n",
        "        }\n",
        "        delta1 *= (z1[batch_idx * hidden_size + hidden_idx] > 0.0f) ? 1.0f : 0.0f;\n",
        "\n",
        "        for (int i = 0; i < input_size; i++) {\n",
        "            atomicAdd(&w1[i * hidden_size + hidden_idx],\n",
        "                     -learning_rate * delta1 * input[batch_idx * input_size + i]);\n",
        "        }\n",
        "    }\n",
        "}\n",
        "\"\"\")\n",
        "\n",
        "# Get kernel functions from the compiled module\n",
        "forward_kernel = mod.get_function(\"func1\")\n",
        "backprop_kernel = mod.get_function(\"func2\")\n"
      ],
      "metadata": {
        "id": "K6zhJMzLttjK"
      },
      "execution_count": null,
      "outputs": []
    },
    {
      "cell_type": "code",
      "source": [
        "import numpy as np\n",
        "import matplotlib.pyplot as plt\n",
        "from sklearn.metrics import accuracy_score\n",
        "from pycuda import gpuarray, driver as drv\n",
        "from pycuda.compiler import SourceModule\n",
        "\n",
        "class ANN:\n",
        "    def __init__(self, input_size=25, hidden_size=64, output_size=3, learning_rate=0.01):\n",
        "        self.input_size = input_size\n",
        "        self.hidden_size = hidden_size\n",
        "        self.output_size = output_size\n",
        "        self.learning_rate = learning_rate\n",
        "\n",
        "        self.w1 = np.random.randn(input_size, hidden_size).astype(np.float32) * np.sqrt(2.0 / input_size)\n",
        "        self.w2 = np.random.randn(hidden_size, output_size).astype(np.float32) * np.sqrt(2.0 / hidden_size)\n",
        "\n",
        "        self.forward_kernel = mod.get_function(\"func1\")\n",
        "        self.backprop_kernel = mod.get_function(\"func2\")\n",
        "\n",
        "        self.w1_gpu = gpuarray.to_gpu(self.w1)\n",
        "        self.w2_gpu = gpuarray.to_gpu(self.w2)\n",
        "\n",
        "    def softmax(self, x):\n",
        "        exp_x = np.exp(x - np.max(x, axis=1, keepdims=True))\n",
        "        return exp_x / np.sum(exp_x, axis=1, keepdims=True)\n",
        "\n",
        "    def train_batch(self, batch_x, batch_y):\n",
        "        batch_size = len(batch_x)\n",
        "\n",
        "        inputs_gpu = gpuarray.to_gpu(batch_x.astype(np.float32))\n",
        "        targets_gpu = gpuarray.to_gpu(batch_y.astype(np.float32))\n",
        "        z1_gpu = gpuarray.zeros((batch_size, self.hidden_size), dtype=np.float32)\n",
        "        z2_gpu = gpuarray.zeros((batch_size, self.output_size), dtype=np.float32)\n",
        "\n",
        "        block_dim = (max(self.hidden_size, self.output_size), 1, 1)\n",
        "        grid_dim = (batch_size, 1, 1)\n",
        "\n",
        "        self.forward_kernel(inputs_gpu, self.w1_gpu, self.w2_gpu, z1_gpu, z2_gpu,\n",
        "                          np.int32(self.input_size), np.int32(self.hidden_size),\n",
        "                          np.int32(self.output_size), np.int32(batch_size),\n",
        "                          block=block_dim, grid=grid_dim)\n",
        "\n",
        "        outputs = self.softmax(z2_gpu.get())\n",
        "        z2_gpu.gpudata.free()\n",
        "        z2_gpu = gpuarray.to_gpu(outputs.astype(np.float32))\n",
        "\n",
        "        self.backprop_kernel(inputs_gpu, z1_gpu, z2_gpu, targets_gpu,\n",
        "                           self.w1_gpu, self.w2_gpu,\n",
        "                           np.int32(self.input_size), np.int32(self.hidden_size),\n",
        "                           np.int32(self.output_size), np.int32(batch_size),\n",
        "                           np.float32(self.learning_rate),\n",
        "                           block=block_dim, grid=grid_dim)\n",
        "\n",
        "        inputs_gpu.gpudata.free()\n",
        "        targets_gpu.gpudata.free()\n",
        "        z1_gpu.gpudata.free()\n",
        "        z2_gpu.gpudata.free()\n",
        "\n",
        "    def predict(self, X):\n",
        "        batch_size = len(X)\n",
        "\n",
        "        inputs_gpu = gpuarray.to_gpu(X.astype(np.float32))\n",
        "        z1_gpu = gpuarray.zeros((batch_size, self.hidden_size), dtype=np.float32)\n",
        "        z2_gpu = gpuarray.zeros((batch_size, self.output_size), dtype=np.float32)\n",
        "\n",
        "        block_dim = (max(self.hidden_size, self.output_size), 1, 1)\n",
        "        grid_dim = (batch_size, 1, 1)\n",
        "\n",
        "        self.forward_kernel(inputs_gpu, self.w1_gpu, self.w2_gpu, z1_gpu, z2_gpu,\n",
        "                          np.int32(self.input_size), np.int32(self.hidden_size),\n",
        "                          np.int32(self.output_size), np.int32(batch_size),\n",
        "                          block=block_dim, grid=grid_dim)\n",
        "\n",
        "        outputs = self.softmax(z2_gpu.get())\n",
        "\n",
        "        inputs_gpu.gpudata.free()\n",
        "        z1_gpu.gpudata.free()\n",
        "        z2_gpu.gpudata.free()\n",
        "\n",
        "        return outputs\n",
        "\n",
        "def train_and_evaluate(X_train, y_train, X_test, y_test, epochs=100, batch_size=32):\n",
        "    net = ANN(input_size=25, hidden_size=10, output_size=3)\n",
        "\n",
        "    y_train_onehot = np.zeros((len(y_train), 3))\n",
        "    y_train_onehot[np.arange(len(y_train)), y_train] = 1\n",
        "\n",
        "    n_batches = len(X_train) // batch_size\n",
        "    print(\"Training started...\")\n",
        "\n",
        "    for epoch in range(epochs):\n",
        "        indices = np.random.permutation(len(X_train))\n",
        "        X_train_shuffled = X_train[indices]\n",
        "        y_train_shuffled = y_train_onehot[indices]\n",
        "\n",
        "        for batch in range(n_batches):\n",
        "            start_idx = batch * batch_size\n",
        "            end_idx = start_idx + batch_size\n",
        "            batch_x = X_train_shuffled[start_idx:end_idx]\n",
        "            batch_y = y_train_shuffled[start_idx:end_idx]\n",
        "            net.train_batch(batch_x, batch_y)\n",
        "\n",
        "        if (epoch + 1) % 10 == 0:\n",
        "            train_preds = np.argmax(net.predict(X_train), axis=1)\n",
        "            train_acc = accuracy_score(y_train, train_preds)\n",
        "            print(f\"Epoch {epoch + 1}/{epochs}, Training Accuracy: {train_acc:.4f}\")\n",
        "\n",
        "            fig = plt.figure(figsize=(8, 8))\n",
        "            columns = 4\n",
        "            rows = 3\n",
        "        for i in range(1,columns*rows+1):\n",
        "         im = dataset[i*2].reshape(5,5)\n",
        "         fig.add_subplot(rows,columns,i)\n",
        "         plt.imshow(im)\n",
        "         plt.show()\n",
        "\n",
        "\n",
        "\n",
        "\n",
        "    return net\n"
      ],
      "metadata": {
        "colab": {
          "base_uri": "https://localhost:8080/",
          "height": 400
        },
        "collapsed": true,
        "id": "bneuzJ02xyQo",
        "outputId": "8f1f6242-dec7-4090-e75b-05f85cc05250"
      },
      "execution_count": null,
      "outputs": [
        {
          "output_type": "error",
          "ename": "ModuleNotFoundError",
          "evalue": "No module named 'pycuda'",
          "traceback": [
            "\u001b[0;31m---------------------------------------------------------------------------\u001b[0m",
            "\u001b[0;31mModuleNotFoundError\u001b[0m                       Traceback (most recent call last)",
            "\u001b[0;32m<ipython-input-2-c667ea56064e>\u001b[0m in \u001b[0;36m<cell line: 4>\u001b[0;34m()\u001b[0m\n\u001b[1;32m      2\u001b[0m \u001b[0;32mimport\u001b[0m \u001b[0mmatplotlib\u001b[0m\u001b[0;34m.\u001b[0m\u001b[0mpyplot\u001b[0m \u001b[0;32mas\u001b[0m \u001b[0mplt\u001b[0m\u001b[0;34m\u001b[0m\u001b[0;34m\u001b[0m\u001b[0m\n\u001b[1;32m      3\u001b[0m \u001b[0;32mfrom\u001b[0m \u001b[0msklearn\u001b[0m\u001b[0;34m.\u001b[0m\u001b[0mmetrics\u001b[0m \u001b[0;32mimport\u001b[0m \u001b[0maccuracy_score\u001b[0m\u001b[0;34m\u001b[0m\u001b[0;34m\u001b[0m\u001b[0m\n\u001b[0;32m----> 4\u001b[0;31m \u001b[0;32mfrom\u001b[0m \u001b[0mpycuda\u001b[0m \u001b[0;32mimport\u001b[0m \u001b[0mgpuarray\u001b[0m\u001b[0;34m,\u001b[0m \u001b[0mdriver\u001b[0m \u001b[0;32mas\u001b[0m \u001b[0mdrv\u001b[0m\u001b[0;34m\u001b[0m\u001b[0;34m\u001b[0m\u001b[0m\n\u001b[0m\u001b[1;32m      5\u001b[0m \u001b[0;32mfrom\u001b[0m \u001b[0mpycuda\u001b[0m\u001b[0;34m.\u001b[0m\u001b[0mcompiler\u001b[0m \u001b[0;32mimport\u001b[0m \u001b[0mSourceModule\u001b[0m\u001b[0;34m\u001b[0m\u001b[0;34m\u001b[0m\u001b[0m\n\u001b[1;32m      6\u001b[0m \u001b[0;34m\u001b[0m\u001b[0m\n",
            "\u001b[0;31mModuleNotFoundError\u001b[0m: No module named 'pycuda'",
            "",
            "\u001b[0;31m---------------------------------------------------------------------------\u001b[0;32m\nNOTE: If your import is failing due to a missing package, you can\nmanually install dependencies using either !pip or !apt.\n\nTo view examples of installing some common dependencies, click the\n\"Open Examples\" button below.\n\u001b[0;31m---------------------------------------------------------------------------\u001b[0m\n"
          ],
          "errorDetails": {
            "actions": [
              {
                "action": "open_url",
                "actionText": "Open Examples",
                "url": "/notebooks/snippets/importing_libraries.ipynb"
              }
            ]
          }
        }
      ]
    },
    {
      "cell_type": "code",
      "source": [
        "S_test = np.array([1, 1, 1, 1, 1,\n",
        "                   1, 0, 0, 0, 0,\n",
        "                   1, 1, 1, 1, 1,\n",
        "                   0, 0, 0, 0, 1,\n",
        "                   1, 1, 1, 1, 1], dtype=np.float32).reshape(1, 25)\n",
        "\n",
        "O_test = np.array([0, 1, 1, 1, 0,\n",
        "                   1, 0, 0, 0, 1,\n",
        "                   1, 0, 0, 0, 1,\n",
        "                   1, 0, 0, 0, 1,\n",
        "                   0, 1, 1, 1, 0], dtype=np.float32).reshape(1, 25)\n",
        "\n",
        "N_test = np.array([1, 0, 0, 0, 1,\n",
        "                   1, 1, 0, 0, 1,\n",
        "                   1, 0, 1, 0, 1,\n",
        "                   1, 0, 0, 1, 1,\n",
        "                   1, 0, 0, 0, 1], dtype=np.float32).reshape(1, 25)"
      ],
      "metadata": {
        "id": "eU8gbB9Q6x5K"
      },
      "execution_count": null,
      "outputs": []
    },
    {
      "cell_type": "code",
      "source": [
        "import matplotlib.pyplot as plt\n",
        "import pycuda.autoinit\n",
        "import pycuda.driver as cuda\n",
        "import numpy as np\n",
        "from pycuda.compiler import SourceModule\n",
        "\n",
        "# Parameters\n",
        "input_dim = 5  # Assume 5x5 binary input\n",
        "num_classes = 3  # We have 3 classes (S, O, N)\n",
        "num_kernels = 2  # Number of kernels\n",
        "kernel_size = 3  # Each kernel is 3x3\n",
        "learning_rate = 0.1\n",
        "epochs = 100\n",
        "train_data = np.concatenate([S_data, O_data, N_data])\n",
        "train_labels = np.array([0] * 10 + [1] * 10 + [2] * 10)\n",
        "\n",
        "\n",
        "test_data = np.array([S_test, O_test, N_test])\n",
        "test_labels = np.array([0, 1, 2])\n",
        "\n",
        "# Initialize weights and kernels\n",
        "kernels = np.random.randn(num_kernels, kernel_size, kernel_size).astype(np.float32)\n",
        "fc_weights = np.random.randn(num_kernels, num_classes).astype(np.float32)\n",
        "\n",
        "# CUDA kernel code for forward and backward propagation\n",
        "cuda_code = \"\"\"\n",
        "__global__ void conv_forward(float *input, float *kernel, float *output, int input_dim, int kernel_size) {\n",
        "    int idx = threadIdx.x;\n",
        "    int j = idx / (input_dim - kernel_size + 1);\n",
        "    int i = idx % (input_dim - kernel_size + 1);\n",
        "\n",
        "    float sum = 0.0;\n",
        "    for (int ki = 0; ki < kernel_size; ki++) {\n",
        "        for (int kj = 0; kj < kernel_size; kj++) {\n",
        "            sum += input[(j + ki) * input_dim + (i + kj)] * kernel[ki * kernel_size + kj];\n",
        "        }\n",
        "    }\n",
        "    output[j * (input_dim - kernel_size + 1) + i] = sum;\n",
        "    }\n",
        "\n",
        "__global__ void fc_forward(float *conv_output, float *weights, float *output, int num_kernels, int num_classes) {\n",
        "    int idx = threadIdx.x;\n",
        "    float sum = 0.0;\n",
        "    for (int i = 0; i < num_kernels; i++) {\n",
        "        sum += conv_output[i] * weights[i * num_classes + idx];\n",
        "    }\n",
        "    output[idx] = sum;\n",
        "}\n",
        "\n",
        "__global__ void backprop(float *conv_output, float *weights, float *fc_gradient, float *conv_gradient, int num_kernels, int num_classes) {\n",
        "  int idx = threadIdx.x;\n",
        "    conv_gradient[idx] = 0.0;\n",
        "    for (int i = 0; i < num_classes; i++) {\n",
        "        conv_gradient[idx] += fc_gradient[i] * weights[idx * num_classes + i];\n",
        "    }\n",
        "}\n",
        "\"\"\"\n",
        "\n",
        "mod = SourceModule(cuda_code)\n",
        "conv_forward = mod.get_function(\"conv_forward\")\n",
        "fc_forward = mod.get_function(\"fc_forward\")\n",
        "backprop = mod.get_function(\"backprop\")\n",
        "\n",
        "# CUDA memory allocation\n",
        "input_gpu = cuda.mem_alloc(train_data[0].nb  ytes)\n",
        "conv_output_gpu = cuda.mem_alloc((input_dim - kernel_size + 1) ** 2 * num_kernels * 4)\n",
        "fc_output_gpu = cuda.mem_alloc(num_classes * 4)\n",
        "fc_gradient_gpu = cuda.mem_alloc(num_classes * 4)\n",
        "conv_gradient_gpu = cuda.mem_alloc(num_kernels * 4)\n",
        "\n",
        "# Training loop (simplified for demonstration)\n",
        "for epoch in range(epochs):\n",
        "    for sample, label in zip(train_data, train_labels):\n",
        "        cuda.memcpy_htod(input_gpu, sample)\n",
        "\n",
        "        # Forward propagation\n",
        "        conv_forward(input_gpu, cuda.In(kernels[0]), conv_output_gpu, np.int32(input_dim), np.int32(kernel_size), block=(1, 1, 1))\n",
        "        fc_forward(conv_output_gpu, cuda.In(fc_weights), fc_output_gpu, np.int32(num_kernels), np.int32(num_classes),block=(num_classes, 1, 1))\n",
        "\n",
        "        # Calculate loss and backpropagate (backpropagation to be completed)\n",
        "\n",
        "print(\"Testing on predefined samples (S_test, O_test, N_test):\")\n",
        "\n",
        "for idx, (sample, label) in enumerate(zip(test_data, test_labels)):\n",
        "    cuda.memcpy_htod(input_gpu, sample)\n",
        "\n",
        "    # Forward pass for test\n",
        "    conv_forward(input_gpu, cuda.In(kernels[0]), conv_output_gpu, np.int32(input_dim), np.int32(kernel_size), block=(1, 1, 1))\n",
        "    fc_forward(conv_output_gpu, cuda.In(fc_weights), fc_output_gpu, np.int32(num_kernels), np.int32(num_classes), block=(num_classes, 1, 1))\n",
        "\n",
        "\n",
        "        # Calculate loss and backpropagate (backpropagation to be completed)\n",
        "\n",
        "print(\"Testing on predefined samples (S_test, O_test, N_test):\")\n",
        "\n",
        "for idx, (sample, label) in enumerate(zip(test_data, test_labels)):\n",
        "    cuda.memcpy_htod(input_gpu, sample)\n",
        "\n",
        "    # Forward pass for test\n",
        "    conv_forward(input_gpu, cuda.In(kernels[0]), conv_output_gpu, np.int32(input_dim), np.int32(kernel_size), block=(1, 1, 1))\n",
        "    fc_forward(conv_output_gpu, cuda.In(fc_weights), fc_output_gpu, np.int32(num_kernels), np.int32(num_classes), block=(num_classes, 1, 1))\n",
        "\n",
        "        # Get prediction\n",
        "    fc_output = np.empty(num_classes, dtype=np.float32)\n",
        "    cuda.memcpy_dtoh(fc_output, fc_output_gpu)\n",
        "    predicted_label = np.argmax(fc_output)\n",
        "\n",
        "    # Map numeric labels to letters\n",
        "    letter_map = {0: \"S\", 1: \"O\", 2: \"N\"}\n",
        "\n",
        "    # Print the prediction\n",
        "    print(f\"Test case {idx + 1}: Actual: {letter_map[label]}, Predicted: {letter_map[predicted_label]}\")\n",
        "\n",
        "    # Display the 5x5 grayscale image of the test case\n",
        "    plt.imshow(sample.reshape(5, 5), cmap='gray_r', interpolation='nearest')\n",
        "    plt.title(f\"Actual: {letter_map[label]}, Predicted: {letter_map[predicted_label]}\")\n",
        "    plt.colorbar()\n",
        "    plt.show()\n",
        "\n",
        "\n",
        "\n"
      ],
      "metadata": {
        "colab": {
          "base_uri": "https://localhost:8080/",
          "height": 1000
        },
        "id": "g1Etgfe59K1P",
        "outputId": "6a205bc0-cfab-45f1-abe4-4570de6fbe5e"
      },
      "execution_count": null,
      "outputs": [
        {
          "output_type": "stream",
          "name": "stdout",
          "text": [
            "Testing on predefined samples (S_test, O_test, N_test):\n",
            "Testing on predefined samples (S_test, O_test, N_test):\n",
            "Test case 1: Actual: S, Predicted: O\n"
          ]
        },
        {
          "output_type": "stream",
          "name": "stderr",
          "text": [
            "/usr/local/lib/python3.10/dist-packages/google/colab/_variable_inspector.py:27: UserWarning: module in out-of-thread context could not be cleaned up\n",
            "  globals().clear()\n",
            "/usr/local/lib/python3.10/dist-packages/google/colab/_variable_inspector.py:27: UserWarning: device_allocation in out-of-thread context could not be cleaned up\n",
            "  globals().clear()\n"
          ]
        },
        {
          "output_type": "display_data",
          "data": {
            "text/plain": [
              "<Figure size 640x480 with 2 Axes>"
            ],
            "image/png": "[encoded data removed]"
          },
          "metadata": {}
        },
        {
          "output_type": "stream",
          "name": "stdout",
          "text": [
            "Test case 2: Actual: O, Predicted: O\n"
          ]
        },
        {
          "output_type": "display_data",
          "data": {
            "text/plain": [
              "<Figure size 640x480 with 2 Axes>"
            ],
            "image/png": "[encoded data removed]"
          },
          "metadata": {}
        },
        {
          "output_type": "stream",
          "name": "stdout",
          "text": [
            "Test case 3: Actual: N, Predicted: O\n"
          ]
        },
        {
          "output_type": "display_data",
          "data": {
            "text/plain": [
              "<Figure size 640x480 with 2 Axes>"
            ],
            "image/png": "[encoded data removed]"
          },
          "metadata": {}
        }
      ]
    },
    {
      "cell_type": "code",
      "source": [
        "model = train_and_evaluate(X_train, y_train, X_test, y_test, epochs=50, batch_size=21)"
      ],
      "metadata": {
        "colab": {
          "base_uri": "https://localhost:8080/",
          "height": 298
        },
        "id": "0UkZiashztjC",
        "outputId": "d5c557d4-f1eb-4a90-e258-a5287d9dd388"
      },
      "execution_count": null,
      "outputs": [
        {
          "output_type": "error",
          "ename": "LogicError",
          "evalue": "cuModuleGetFunction failed: named symbol not found",
          "traceback": [
            "\u001b[0;31m---------------------------------------------------------------------------\u001b[0m",
            "\u001b[0;31mLogicError\u001b[0m                                Traceback (most recent call last)",
            "\u001b[0;32m<ipython-input-61-06aaaaffed5a>\u001b[0m in \u001b[0;36m<cell line: 1>\u001b[0;34m()\u001b[0m\n\u001b[0;32m----> 1\u001b[0;31m \u001b[0mmodel\u001b[0m \u001b[0;34m=\u001b[0m \u001b[0mtrain_and_evaluate\u001b[0m\u001b[0;34m(\u001b[0m\u001b[0mX_train\u001b[0m\u001b[0;34m,\u001b[0m \u001b[0my_train\u001b[0m\u001b[0;34m,\u001b[0m \u001b[0mX_test\u001b[0m\u001b[0;34m,\u001b[0m \u001b[0my_test\u001b[0m\u001b[0;34m,\u001b[0m \u001b[0mepochs\u001b[0m\u001b[0;34m=\u001b[0m\u001b[0;36m50\u001b[0m\u001b[0;34m,\u001b[0m \u001b[0mbatch_size\u001b[0m\u001b[0;34m=\u001b[0m\u001b[0;36m21\u001b[0m\u001b[0;34m)\u001b[0m\u001b[0;34m\u001b[0m\u001b[0;34m\u001b[0m\u001b[0m\n\u001b[0m",
            "\u001b[0;32m<ipython-input-56-c667ea56064e>\u001b[0m in \u001b[0;36mtrain_and_evaluate\u001b[0;34m(X_train, y_train, X_test, y_test, epochs, batch_size)\u001b[0m\n\u001b[1;32m     81\u001b[0m \u001b[0;34m\u001b[0m\u001b[0m\n\u001b[1;32m     82\u001b[0m \u001b[0;32mdef\u001b[0m \u001b[0mtrain_and_evaluate\u001b[0m\u001b[0;34m(\u001b[0m\u001b[0mX_train\u001b[0m\u001b[0;34m,\u001b[0m \u001b[0my_train\u001b[0m\u001b[0;34m,\u001b[0m \u001b[0mX_test\u001b[0m\u001b[0;34m,\u001b[0m \u001b[0my_test\u001b[0m\u001b[0;34m,\u001b[0m \u001b[0mepochs\u001b[0m\u001b[0;34m=\u001b[0m\u001b[0;36m100\u001b[0m\u001b[0;34m,\u001b[0m \u001b[0mbatch_size\u001b[0m\u001b[0;34m=\u001b[0m\u001b[0;36m32\u001b[0m\u001b[0;34m)\u001b[0m\u001b[0;34m:\u001b[0m\u001b[0;34m\u001b[0m\u001b[0;34m\u001b[0m\u001b[0m\n\u001b[0;32m---> 83\u001b[0;31m     \u001b[0mnet\u001b[0m \u001b[0;34m=\u001b[0m \u001b[0mANN\u001b[0m\u001b[0;34m(\u001b[0m\u001b[0minput_size\u001b[0m\u001b[0;34m=\u001b[0m\u001b[0;36m25\u001b[0m\u001b[0;34m,\u001b[0m \u001b[0mhidden_size\u001b[0m\u001b[0;34m=\u001b[0m\u001b[0;36m10\u001b[0m\u001b[0;34m,\u001b[0m \u001b[0moutput_size\u001b[0m\u001b[0;34m=\u001b[0m\u001b[0;36m3\u001b[0m\u001b[0;34m)\u001b[0m\u001b[0;34m\u001b[0m\u001b[0;34m\u001b[0m\u001b[0m\n\u001b[0m\u001b[1;32m     84\u001b[0m \u001b[0;34m\u001b[0m\u001b[0m\n\u001b[1;32m     85\u001b[0m     \u001b[0my_train_onehot\u001b[0m \u001b[0;34m=\u001b[0m \u001b[0mnp\u001b[0m\u001b[0;34m.\u001b[0m\u001b[0mzeros\u001b[0m\u001b[0;34m(\u001b[0m\u001b[0;34m(\u001b[0m\u001b[0mlen\u001b[0m\u001b[0;34m(\u001b[0m\u001b[0my_train\u001b[0m\u001b[0;34m)\u001b[0m\u001b[0;34m,\u001b[0m \u001b[0;36m3\u001b[0m\u001b[0;34m)\u001b[0m\u001b[0;34m)\u001b[0m\u001b[0;34m\u001b[0m\u001b[0;34m\u001b[0m\u001b[0m\n",
            "\u001b[0;32m<ipython-input-56-c667ea56064e>\u001b[0m in \u001b[0;36m__init__\u001b[0;34m(self, input_size, hidden_size, output_size, learning_rate)\u001b[0m\n\u001b[1;32m     15\u001b[0m         \u001b[0mself\u001b[0m\u001b[0;34m.\u001b[0m\u001b[0mw2\u001b[0m \u001b[0;34m=\u001b[0m \u001b[0mnp\u001b[0m\u001b[0;34m.\u001b[0m\u001b[0mrandom\u001b[0m\u001b[0;34m.\u001b[0m\u001b[0mrandn\u001b[0m\u001b[0;34m(\u001b[0m\u001b[0mhidden_size\u001b[0m\u001b[0;34m,\u001b[0m \u001b[0moutput_size\u001b[0m\u001b[0;34m)\u001b[0m\u001b[0;34m.\u001b[0m\u001b[0mastype\u001b[0m\u001b[0;34m(\u001b[0m\u001b[0mnp\u001b[0m\u001b[0;34m.\u001b[0m\u001b[0mfloat32\u001b[0m\u001b[0;34m)\u001b[0m \u001b[0;34m*\u001b[0m \u001b[0mnp\u001b[0m\u001b[0;34m.\u001b[0m\u001b[0msqrt\u001b[0m\u001b[0;34m(\u001b[0m\u001b[0;36m2.0\u001b[0m \u001b[0;34m/\u001b[0m \u001b[0mhidden_size\u001b[0m\u001b[0;34m)\u001b[0m\u001b[0;34m\u001b[0m\u001b[0;34m\u001b[0m\u001b[0m\n\u001b[1;32m     16\u001b[0m \u001b[0;34m\u001b[0m\u001b[0m\n\u001b[0;32m---> 17\u001b[0;31m         \u001b[0mself\u001b[0m\u001b[0;34m.\u001b[0m\u001b[0mforward_kernel\u001b[0m \u001b[0;34m=\u001b[0m \u001b[0mmod\u001b[0m\u001b[0;34m.\u001b[0m\u001b[0mget_function\u001b[0m\u001b[0;34m(\u001b[0m\u001b[0;34m\"func1\"\u001b[0m\u001b[0;34m)\u001b[0m\u001b[0;34m\u001b[0m\u001b[0;34m\u001b[0m\u001b[0m\n\u001b[0m\u001b[1;32m     18\u001b[0m         \u001b[0mself\u001b[0m\u001b[0;34m.\u001b[0m\u001b[0mbackprop_kernel\u001b[0m \u001b[0;34m=\u001b[0m \u001b[0mmod\u001b[0m\u001b[0;34m.\u001b[0m\u001b[0mget_function\u001b[0m\u001b[0;34m(\u001b[0m\u001b[0;34m\"func2\"\u001b[0m\u001b[0;34m)\u001b[0m\u001b[0;34m\u001b[0m\u001b[0;34m\u001b[0m\u001b[0m\n\u001b[1;32m     19\u001b[0m \u001b[0;34m\u001b[0m\u001b[0m\n",
            "\u001b[0;32m/usr/local/lib/python3.10/dist-packages/pycuda/compiler.py\u001b[0m in \u001b[0;36mget_function\u001b[0;34m(self, name)\u001b[0m\n\u001b[1;32m    323\u001b[0m \u001b[0;34m\u001b[0m\u001b[0m\n\u001b[1;32m    324\u001b[0m     \u001b[0;32mdef\u001b[0m \u001b[0mget_function\u001b[0m\u001b[0;34m(\u001b[0m\u001b[0mself\u001b[0m\u001b[0;34m,\u001b[0m \u001b[0mname\u001b[0m\u001b[0;34m)\u001b[0m\u001b[0;34m:\u001b[0m\u001b[0;34m\u001b[0m\u001b[0;34m\u001b[0m\u001b[0m\n\u001b[0;32m--> 325\u001b[0;31m         \u001b[0;32mreturn\u001b[0m \u001b[0mself\u001b[0m\u001b[0;34m.\u001b[0m\u001b[0mmodule\u001b[0m\u001b[0;34m.\u001b[0m\u001b[0mget_function\u001b[0m\u001b[0;34m(\u001b[0m\u001b[0mname\u001b[0m\u001b[0;34m)\u001b[0m\u001b[0;34m\u001b[0m\u001b[0;34m\u001b[0m\u001b[0m\n\u001b[0m\u001b[1;32m    326\u001b[0m \u001b[0;34m\u001b[0m\u001b[0m\n\u001b[1;32m    327\u001b[0m \u001b[0;34m\u001b[0m\u001b[0m\n",
            "\u001b[0;31mLogicError\u001b[0m: cuModuleGetFunction failed: named symbol not found"
          ]
        }
      ]
    }
  ]
}